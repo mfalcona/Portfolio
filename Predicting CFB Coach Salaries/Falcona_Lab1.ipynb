{
 "cells": [
  {
   "cell_type": "code",
   "execution_count": 206,
   "metadata": {},
   "outputs": [],
   "source": [
    "# Lab 1 / Week 3\n",
    "# Matt Falcona"
   ]
  },
  {
   "cell_type": "code",
   "execution_count": 2,
   "metadata": {},
   "outputs": [],
   "source": [
    "import pandas as pd #dataframes and analysis\n",
    "pd.options.mode.chained_assignment = None  # default='warn' #avoid chained error\n",
    "import numpy as np #math and arrays\n",
    "import re #regex for cleaning\n",
    "from scipy.stats import uniform  # for training-and-test split\n",
    "import matplotlib.pyplot as plt #viz\n",
    "import seaborn as sns #viz\n",
    "from sklearn.preprocessing import LabelEncoder #encoding ordinal levels to categorical variables\n",
    "from sklearn.model_selection import train_test_split #train and test data\n",
    "from sklearn.linear_model import LinearRegression #glm\n",
    "from sklearn.metrics import r2_score, mean_squared_error, mean_absolute_error #metrics for models\n",
    "import statsmodels.api as sm #alternative to sklearn: https://github.com/statsmodels/statsmodels\n",
    "import statsmodels.formula.api as smf #same as above\n"
   ]
  },
  {
   "cell_type": "code",
   "execution_count": 3,
   "metadata": {},
   "outputs": [
    {
     "name": "stdout",
     "output_type": "stream",
     "text": [
      "(129, 9)\n",
      "<class 'pandas.core.frame.DataFrame'>\n",
      "RangeIndex: 129 entries, 0 to 128\n",
      "Data columns (total 9 columns):\n",
      " #   Column        Non-Null Count  Dtype \n",
      "---  ------        --------------  ----- \n",
      " 0   School        129 non-null    object\n",
      " 1   Conference    129 non-null    object\n",
      " 2   Coach         129 non-null    object\n",
      " 3   SchoolPay     129 non-null    object\n",
      " 4   TotalPay      129 non-null    object\n",
      " 5   Bonus         129 non-null    object\n",
      " 6   BonusPaid     129 non-null    object\n",
      " 7   AssistantPay  129 non-null    object\n",
      " 8   Buyout        129 non-null    object\n",
      "dtypes: object(9)\n",
      "memory usage: 9.2+ KB\n",
      "None\n",
      "                  School Conference              Coach    SchoolPay  \\\n",
      "0              Air Force   Mt. West       Troy Calhoun       885000   \n",
      "1                  Akron        MAC       Terry Bowden    $411,000    \n",
      "2                Alabama        SEC         Nick Saban  $8,307,000    \n",
      "3  Alabama at Birmingham      C-USA         Bill Clark    $900,000    \n",
      "4      Appalachian State   Sun Belt  Scott Satterfield    $712,500    \n",
      "5                Arizona     Pac-12       Kevin Sumlin  $1,600,000    \n",
      "6          Arizona State     Pac-12       Herm Edwards  $2,000,000    \n",
      "7               Arkansas        SEC        Chad Morris  $3,500,000    \n",
      "8         Arkansas State   Sun Belt     Blake Anderson    $825,000    \n",
      "9                   Army       Ind.        Jeff Monken       932521   \n",
      "\n",
      "      TotalPay        Bonus  BonusPaid AssistantPay        Buyout  \n",
      "0       885000       247000         --          $0             --  \n",
      "1    $412,500     $225,000    $50,000           $0      $688,500   \n",
      "2  $8,307,000   $1,100,000   $500,000           $0   $33,600,000   \n",
      "3    $900,000     $950,000   $165,471           $0    $3,847,500   \n",
      "4    $712,500     $295,000   $145,000           $0    $2,160,417   \n",
      "5  $2,000,000   $2,025,000          --          $0   $10,000,000   \n",
      "6  $2,000,000   $3,010,000          --          $0    $8,166,667   \n",
      "7  $3,500,000   $1,000,000          --          $0   $12,500,000   \n",
      "8    $825,000     $185,000    $25,000           $0      $300,000   \n",
      "9       932521           --         --          $0             --  \n"
     ]
    }
   ],
   "source": [
    "coaches = pd.read_csv('https://raw.githubusercontent.com/2SUBDA/IST_718/master/Coaches9.csv')\n",
    "\n",
    "print(coaches.shape)\n",
    "print(coaches.info())\n",
    "print(coaches.iloc[0:10])"
   ]
  },
  {
   "cell_type": "code",
   "execution_count": 4,
   "metadata": {},
   "outputs": [],
   "source": [
    "# adding missing salaries\n",
    "\n",
    "# Sonny Dykes (SMU) - $1,340,314\n",
    "# Mike Bloomgreen (Rice) - $1,332,308\n",
    "# Matt Rhule (Baylor) - $4,113,734\n",
    "# Kalani Sitake (BYU) - $1,500,000\n",
    "\n",
    "coaches.loc[coaches['School'] == 'Baylor','SchoolPay'] = '4113734'\n",
    "coaches.loc[coaches['School'] == 'Brigham Young','SchoolPay'] = '1500000'\n",
    "coaches.loc[coaches['School'] == 'Southern Methodist','SchoolPay'] = '1340314'\n",
    "coaches.loc[coaches['School'] == 'Rice','SchoolPay'] = '1332308'\n",
    "\n",
    "# https://sports.usatoday.com/ncaa/salaries/"
   ]
  },
  {
   "cell_type": "code",
   "execution_count": 5,
   "metadata": {},
   "outputs": [
    {
     "data": {
      "text/plain": [
       "School           object\n",
       "Conference       object\n",
       "Coach            object\n",
       "SchoolPay       float64\n",
       "TotalPay        float64\n",
       "Bonus           float64\n",
       "BonusPaid       float64\n",
       "AssistantPay    float64\n",
       "Buyout          float64\n",
       "dtype: object"
      ]
     },
     "execution_count": 5,
     "metadata": {},
     "output_type": "execute_result"
    }
   ],
   "source": [
    "#Cleaning the data\n",
    "numerics = ['SchoolPay', 'TotalPay', 'Bonus', 'BonusPaid', 'AssistantPay', 'Buyout'] #columns that should be float\n",
    "\n",
    "#using RegEx loop to replace punctuation, symbols, and NAs with 0\n",
    "for i in numerics:\n",
    "    coaches[i] = coaches[i].replace('[$,]', '', regex=True)\n",
    "    coaches[i] = coaches[i].replace('[--]', '0', regex=True)\n",
    "    coaches[i] = coaches[i].astype(float) #converting to float \n",
    "\n",
    "coaches.head() \n",
    "coaches.dtypes  # dollar amounts are float64"
   ]
  },
  {
   "cell_type": "code",
   "execution_count": 6,
   "metadata": {},
   "outputs": [
    {
     "name": "stdout",
     "output_type": "stream",
     "text": [
      "              School  year  games  wins  losses  rank  sp_overall  \\\n",
      "0          Air Force  2019     13    11       2  22.0        12.1   \n",
      "1              Akron  2019     12     0      12   0.0       -29.8   \n",
      "2            Alabama  2019     13    11       2   8.0        32.4   \n",
      "3  Appalachian State  2019     13    12       1  19.0        11.3   \n",
      "4            Arizona  2019     12     4       8   0.0        -8.0   \n",
      "\n",
      "            name  \n",
      "0   Troy Calhoun  \n",
      "1       Tom Arth  \n",
      "2     Nick Saban  \n",
      "3  Eli Drinkwitz  \n",
      "4   Kevin Sumlin  \n",
      "(130, 8)\n",
      "<class 'pandas.core.frame.DataFrame'>\n",
      "RangeIndex: 130 entries, 0 to 129\n",
      "Data columns (total 8 columns):\n",
      " #   Column      Non-Null Count  Dtype  \n",
      "---  ------      --------------  -----  \n",
      " 0   School      130 non-null    object \n",
      " 1   year        130 non-null    int64  \n",
      " 2   games       130 non-null    int64  \n",
      " 3   wins        130 non-null    int64  \n",
      " 4   losses      130 non-null    int64  \n",
      " 5   rank        130 non-null    float64\n",
      " 6   sp_overall  130 non-null    float64\n",
      " 7   name        130 non-null    object \n",
      "dtypes: float64(2), int64(4), object(2)\n",
      "memory usage: 8.2+ KB\n",
      "None\n"
     ]
    }
   ],
   "source": [
    "# reading in 2019 record, ratings, and rank\n",
    "\n",
    "records = pd.read_csv('/Users/matthewfalcona/School/IST718 Big Data/coach_records.csv').fillna(0)\n",
    "print(records.head())\n",
    "print(records.shape)\n",
    "print(records.info())\n",
    "\n",
    "# https://collegefootballdata.com/exporter/coaches"
   ]
  },
  {
   "cell_type": "code",
   "execution_count": 7,
   "metadata": {},
   "outputs": [
    {
     "name": "stdout",
     "output_type": "stream",
     "text": [
      "   RK      School     Conf  Total Revenue\n",
      "0   1       Texas   Big 12    223879781.0\n",
      "1   2   Texas A&M      SEC    212748002.0\n",
      "2   3  Ohio State  Big Ten    210548239.0\n",
      "3   4    Michigan  Big Ten    197820410.0\n",
      "4   5     Georgia      SEC    174042482.0\n",
      "(246, 4)\n",
      "<class 'pandas.core.frame.DataFrame'>\n",
      "RangeIndex: 246 entries, 0 to 245\n",
      "Data columns (total 4 columns):\n",
      " #   Column         Non-Null Count  Dtype  \n",
      "---  ------         --------------  -----  \n",
      " 0   RK             246 non-null    int64  \n",
      " 1   School         246 non-null    object \n",
      " 2   Conf           246 non-null    object \n",
      " 3   Total Revenue  246 non-null    float64\n",
      "dtypes: float64(1), int64(1), object(2)\n",
      "memory usage: 7.8+ KB\n",
      "None\n"
     ]
    }
   ],
   "source": [
    "# reading in 2018 athletic department revenues (USA Today)\n",
    "\n",
    "revenues = pd.read_excel('/Users/matthewfalcona/School/IST718 Big Data/school_revenues.xlsx').fillna(0)\n",
    "revenues['Total Revenue'] = revenues['Total Revenue'].astype(float)  # converting revenue values to float\n",
    "print(revenues.head())\n",
    "print(revenues.shape)\n",
    "print(revenues.info())\n",
    "\n",
    "# https://sports.usatoday.com/ncaa/finances \n",
    "# https://www.collegefactual.com/colleges/  -- additional data for private schools"
   ]
  },
  {
   "cell_type": "code",
   "execution_count": 8,
   "metadata": {},
   "outputs": [
    {
     "name": "stdout",
     "output_type": "stream",
     "text": [
      "       School           Stadium Conference  Capacity\n",
      "0    Michigan  Michigan Stadium    Big Ten  107601.0\n",
      "1  Penn State    Beaver Stadium    Big Ten  106572.0\n",
      "2  Ohio State      Ohio Stadium    Big Ten  104944.0\n",
      "3   Texas A&M        Kyle Field        SEC  102733.0\n",
      "4   Tennessee   Neyland Stadium        SEC  102521.0\n",
      "(131, 4)\n",
      "<class 'pandas.core.frame.DataFrame'>\n",
      "RangeIndex: 131 entries, 0 to 130\n",
      "Data columns (total 4 columns):\n",
      " #   Column      Non-Null Count  Dtype  \n",
      "---  ------      --------------  -----  \n",
      " 0   School      131 non-null    object \n",
      " 1   Stadium     131 non-null    object \n",
      " 2   Conference  131 non-null    object \n",
      " 3   Capacity    131 non-null    float64\n",
      "dtypes: float64(1), object(3)\n",
      "memory usage: 4.2+ KB\n",
      "None\n"
     ]
    }
   ],
   "source": [
    "# reading in stadium size dataset\n",
    "\n",
    "stadiums = pd.read_excel('/Users/matthewfalcona/School/IST718 Big Data/stadiums.xlsx')\n",
    "stadiums['Capacity'] = stadiums['Capacity'].astype(float)  # converting stadium capacity values to float\n",
    "print(stadiums.head())\n",
    "print(stadiums.shape)\n",
    "print(stadiums.info())\n",
    "\n",
    "# https://www.collegegridirons.com/comparisons-by-capacity/"
   ]
  },
  {
   "cell_type": "code",
   "execution_count": 9,
   "metadata": {},
   "outputs": [
    {
     "name": "stdout",
     "output_type": "stream",
     "text": [
      "   Cohort Year       Year                 School                Conference  \\\n",
      "0         2011  2017-2018              Air Force  Mountain West Conference   \n",
      "1         2011  2017-2018                  Akron   Mid-American Conference   \n",
      "2         2011  2017-2018                Alabama   Southeastern Conference   \n",
      "3         2011  2017-2018  Alabama at Birmingham            Conference USA   \n",
      "4         2011  2017-2018      Appalachian State       Sun Belt Conference   \n",
      "\n",
      "      Sport State  GSR   FGR  \n",
      "0  Football    CO   77   0.0  \n",
      "1  Football    OH   72  61.0  \n",
      "2  Football    AL   84  63.0  \n",
      "3  Football    AL   71  58.0  \n",
      "4  Football    NC   71  67.0  \n",
      "(131, 8)\n",
      "<class 'pandas.core.frame.DataFrame'>\n",
      "RangeIndex: 131 entries, 0 to 130\n",
      "Data columns (total 8 columns):\n",
      " #   Column       Non-Null Count  Dtype  \n",
      "---  ------       --------------  -----  \n",
      " 0   Cohort Year  131 non-null    int64  \n",
      " 1   Year         131 non-null    object \n",
      " 2   School       131 non-null    object \n",
      " 3   Conference   131 non-null    object \n",
      " 4   Sport        131 non-null    object \n",
      " 5   State        131 non-null    object \n",
      " 6   GSR          131 non-null    int64  \n",
      " 7   FGR          131 non-null    float64\n",
      "dtypes: float64(1), int64(2), object(5)\n",
      "memory usage: 8.3+ KB\n",
      "None\n"
     ]
    }
   ],
   "source": [
    "# reading in graduation rates from NCAA\n",
    "\n",
    "grad_rate = pd.read_excel('/Users/matthewfalcona/School/IST718 Big Data/grad_rates.xlsx').fillna(0)\n",
    "# dropping unused columns\n",
    "# grad_rate = grad_rate.drop(columns = ['Unnamed: 8', 'Unnamed: 9', 'Unnamed: 10', 'Unnamed: 11', 'Unnamed: 12', 'Unnamed: 13', 'Unnamed: 14'])\n",
    "print(grad_rate.head())\n",
    "print(grad_rate.shape)\n",
    "print(grad_rate.info())"
   ]
  },
  {
   "cell_type": "code",
   "execution_count": 10,
   "metadata": {},
   "outputs": [],
   "source": [
    "# Merging additional data with coaches dataset\n",
    "\n",
    "# merge coaches dataset with revenue on School\n",
    "\n",
    "coaches_plus = pd.merge(coaches, revenues[[\"School\", \"Total Revenue\"]], on = \"School\", how = \"left\")\n"
   ]
  },
  {
   "cell_type": "code",
   "execution_count": 11,
   "metadata": {},
   "outputs": [],
   "source": [
    "# merge new coaches dataset with records on School\n",
    "\n",
    "coaches_plus = pd.merge(coaches_plus, records[[\"School\", \"wins\", \"losses\", \"sp_overall\"]], on = \"School\", how = \"left\")"
   ]
  },
  {
   "cell_type": "code",
   "execution_count": 12,
   "metadata": {},
   "outputs": [],
   "source": [
    "# merge grad rates dataset with coaches on school\n",
    "\n",
    "coaches_plus = pd.merge(coaches_plus, grad_rate[['School','GSR','FGR']], on = \"School\", how = \"left\")"
   ]
  },
  {
   "cell_type": "code",
   "execution_count": 13,
   "metadata": {},
   "outputs": [],
   "source": [
    "# finally, merge stadiums dataset with coaches dataset on School\n",
    "\n",
    "coaches_plus = pd.merge(coaches_plus, stadiums[[\"School\", \"Capacity\"]], on = \"School\", how = \"left\")"
   ]
  },
  {
   "cell_type": "code",
   "execution_count": 14,
   "metadata": {},
   "outputs": [
    {
     "name": "stdout",
     "output_type": "stream",
     "text": [
      "{'AAC': 1, 'ACC': 2, 'Big 12': 3, 'Big Ten': 4, 'C-USA': 5, 'Ind.': 6, 'MAC': 7, 'Mt. West': 8, 'Pac-12': 9, 'SEC': 10, 'Sun Belt': 11}\n"
     ]
    }
   ],
   "source": [
    "# mapping conferences to an index value for visualization purposes\n",
    "\n",
    "conf_num = {\"AAC\" : 1,\n",
    "            \"ACC\" : 2,\n",
    "            \"Big 12\" : 3,\n",
    "            \"Big Ten\" : 4,\n",
    "            \"C-USA\" : 5,\n",
    "            \"Ind.\" : 6,\n",
    "            \"MAC\" : 7,\n",
    "            \"Mt. West\" : 8,\n",
    "            \"Pac-12\" : 9,\n",
    "            \"SEC\" : 10,\n",
    "            \"Sun Belt\": 11}\n",
    "\n",
    "print(conf_num)\n",
    "\n",
    "coaches_plus['conf_num'] = coaches_plus['Conference'].map(conf_num)"
   ]
  },
  {
   "cell_type": "code",
   "execution_count": 15,
   "metadata": {},
   "outputs": [
    {
     "data": {
      "text/html": [
       "<div>\n",
       "<style scoped>\n",
       "    .dataframe tbody tr th:only-of-type {\n",
       "        vertical-align: middle;\n",
       "    }\n",
       "\n",
       "    .dataframe tbody tr th {\n",
       "        vertical-align: top;\n",
       "    }\n",
       "\n",
       "    .dataframe thead th {\n",
       "        text-align: right;\n",
       "    }\n",
       "</style>\n",
       "<table border=\"1\" class=\"dataframe\">\n",
       "  <thead>\n",
       "    <tr style=\"text-align: right;\">\n",
       "      <th></th>\n",
       "      <th>School</th>\n",
       "      <th>Conference</th>\n",
       "      <th>Coach</th>\n",
       "      <th>SchoolPay</th>\n",
       "      <th>TotalPay</th>\n",
       "      <th>Bonus</th>\n",
       "      <th>BonusPaid</th>\n",
       "      <th>AssistantPay</th>\n",
       "      <th>Buyout</th>\n",
       "      <th>Total Revenue</th>\n",
       "      <th>wins</th>\n",
       "      <th>losses</th>\n",
       "      <th>sp_overall</th>\n",
       "      <th>GSR</th>\n",
       "      <th>FGR</th>\n",
       "      <th>Capacity</th>\n",
       "      <th>conf_num</th>\n",
       "    </tr>\n",
       "  </thead>\n",
       "  <tbody>\n",
       "    <tr>\n",
       "      <th>0</th>\n",
       "      <td>Air Force</td>\n",
       "      <td>Mt. West</td>\n",
       "      <td>Troy Calhoun</td>\n",
       "      <td>885000.0</td>\n",
       "      <td>885000.0</td>\n",
       "      <td>247000.0</td>\n",
       "      <td>0.0</td>\n",
       "      <td>0.0</td>\n",
       "      <td>0.0</td>\n",
       "      <td>60009782.0</td>\n",
       "      <td>11</td>\n",
       "      <td>2</td>\n",
       "      <td>12.1</td>\n",
       "      <td>77</td>\n",
       "      <td>0.0</td>\n",
       "      <td>52237.0</td>\n",
       "      <td>8</td>\n",
       "    </tr>\n",
       "    <tr>\n",
       "      <th>1</th>\n",
       "      <td>Akron</td>\n",
       "      <td>MAC</td>\n",
       "      <td>Terry Bowden</td>\n",
       "      <td>411000.0</td>\n",
       "      <td>412500.0</td>\n",
       "      <td>225000.0</td>\n",
       "      <td>50000.0</td>\n",
       "      <td>0.0</td>\n",
       "      <td>688500.0</td>\n",
       "      <td>37194485.0</td>\n",
       "      <td>0</td>\n",
       "      <td>12</td>\n",
       "      <td>-29.8</td>\n",
       "      <td>72</td>\n",
       "      <td>61.0</td>\n",
       "      <td>30000.0</td>\n",
       "      <td>7</td>\n",
       "    </tr>\n",
       "    <tr>\n",
       "      <th>2</th>\n",
       "      <td>Alabama</td>\n",
       "      <td>SEC</td>\n",
       "      <td>Nick Saban</td>\n",
       "      <td>8307000.0</td>\n",
       "      <td>8307000.0</td>\n",
       "      <td>1100000.0</td>\n",
       "      <td>500000.0</td>\n",
       "      <td>0.0</td>\n",
       "      <td>33600000.0</td>\n",
       "      <td>164090889.0</td>\n",
       "      <td>11</td>\n",
       "      <td>2</td>\n",
       "      <td>32.4</td>\n",
       "      <td>84</td>\n",
       "      <td>63.0</td>\n",
       "      <td>101821.0</td>\n",
       "      <td>10</td>\n",
       "    </tr>\n",
       "    <tr>\n",
       "      <th>3</th>\n",
       "      <td>Alabama at Birmingham</td>\n",
       "      <td>C-USA</td>\n",
       "      <td>Bill Clark</td>\n",
       "      <td>900000.0</td>\n",
       "      <td>900000.0</td>\n",
       "      <td>950000.0</td>\n",
       "      <td>165471.0</td>\n",
       "      <td>0.0</td>\n",
       "      <td>3847500.0</td>\n",
       "      <td>36494381.0</td>\n",
       "      <td>9</td>\n",
       "      <td>5</td>\n",
       "      <td>-1.4</td>\n",
       "      <td>71</td>\n",
       "      <td>58.0</td>\n",
       "      <td>71594.0</td>\n",
       "      <td>5</td>\n",
       "    </tr>\n",
       "    <tr>\n",
       "      <th>4</th>\n",
       "      <td>Appalachian State</td>\n",
       "      <td>Sun Belt</td>\n",
       "      <td>Scott Satterfield</td>\n",
       "      <td>712500.0</td>\n",
       "      <td>712500.0</td>\n",
       "      <td>295000.0</td>\n",
       "      <td>145000.0</td>\n",
       "      <td>0.0</td>\n",
       "      <td>2160417.0</td>\n",
       "      <td>37996512.0</td>\n",
       "      <td>12</td>\n",
       "      <td>1</td>\n",
       "      <td>11.3</td>\n",
       "      <td>71</td>\n",
       "      <td>67.0</td>\n",
       "      <td>24150.0</td>\n",
       "      <td>11</td>\n",
       "    </tr>\n",
       "  </tbody>\n",
       "</table>\n",
       "</div>"
      ],
      "text/plain": [
       "                  School Conference              Coach  SchoolPay   TotalPay  \\\n",
       "0              Air Force   Mt. West       Troy Calhoun   885000.0   885000.0   \n",
       "1                  Akron        MAC       Terry Bowden   411000.0   412500.0   \n",
       "2                Alabama        SEC         Nick Saban  8307000.0  8307000.0   \n",
       "3  Alabama at Birmingham      C-USA         Bill Clark   900000.0   900000.0   \n",
       "4      Appalachian State   Sun Belt  Scott Satterfield   712500.0   712500.0   \n",
       "\n",
       "       Bonus  BonusPaid  AssistantPay      Buyout  Total Revenue  wins  \\\n",
       "0   247000.0        0.0           0.0         0.0     60009782.0    11   \n",
       "1   225000.0    50000.0           0.0    688500.0     37194485.0     0   \n",
       "2  1100000.0   500000.0           0.0  33600000.0    164090889.0    11   \n",
       "3   950000.0   165471.0           0.0   3847500.0     36494381.0     9   \n",
       "4   295000.0   145000.0           0.0   2160417.0     37996512.0    12   \n",
       "\n",
       "   losses  sp_overall  GSR   FGR  Capacity  conf_num  \n",
       "0       2        12.1   77   0.0   52237.0         8  \n",
       "1      12       -29.8   72  61.0   30000.0         7  \n",
       "2       2        32.4   84  63.0  101821.0        10  \n",
       "3       5        -1.4   71  58.0   71594.0         5  \n",
       "4       1        11.3   71  67.0   24150.0        11  "
      ]
     },
     "execution_count": 15,
     "metadata": {},
     "output_type": "execute_result"
    }
   ],
   "source": [
    "# checking the combined dataset\n",
    "\n",
    "coaches_plus.head()  # checks out"
   ]
  },
  {
   "cell_type": "code",
   "execution_count": 16,
   "metadata": {},
   "outputs": [],
   "source": [
    "# Data analysis - which potential predictor variables will most strongly predict salary?\n",
    "\n",
    "# TotalPay to Total Revenue\n",
    "\n",
    "\n",
    "# TotalPay to Wins\n",
    "\n",
    "\n",
    "# TotalPay to sp_overall\n",
    "\n",
    "\n",
    "# TotalPay to Capacity"
   ]
  },
  {
   "cell_type": "code",
   "execution_count": 17,
   "metadata": {},
   "outputs": [],
   "source": [
    "# First, we must remove any schools which do not have any of the above variables in the dataset\n",
    "\n",
    "# Army & Navy - no revenue\n",
    "\n",
    "delete_army = coaches_plus[coaches_plus['School'] == 'Army'].index\n",
    "\n",
    "coaches_plus = coaches_plus.drop(delete_army)\n",
    "\n",
    "delete_navy = coaches_plus[coaches_plus['School'] == 'Navy'].index\n",
    "\n",
    "coaches_plus = coaches_plus.drop(delete_navy)"
   ]
  },
  {
   "cell_type": "code",
   "execution_count": 18,
   "metadata": {},
   "outputs": [],
   "source": [
    "conf_labels = [\"AAC\",\"ACC\",\"Big 12\",\"Big Ten\",\"C-USA\",\"Ind.\",\"MAC\",\"Mt. West\",\"Pac-12\",\"SEC\",\"Sun Belt\"]"
   ]
  },
  {
   "cell_type": "code",
   "execution_count": 19,
   "metadata": {},
   "outputs": [
    {
     "data": {
      "text/plain": [
       "['AAC',\n",
       " 'ACC',\n",
       " 'Big 12',\n",
       " 'Big Ten',\n",
       " 'C-USA',\n",
       " 'Ind.',\n",
       " 'MAC',\n",
       " 'Mt. West',\n",
       " 'Pac-12',\n",
       " 'SEC',\n",
       " 'Sun Belt']"
      ]
     },
     "execution_count": 19,
     "metadata": {},
     "output_type": "execute_result"
    }
   ],
   "source": [
    "conf_labels[0:11]"
   ]
  },
  {
   "cell_type": "code",
   "execution_count": 318,
   "metadata": {},
   "outputs": [
    {
     "data": {
      "image/png": "[encoded data removed]",
      "text/plain": [
       "<Figure size 432x288 with 1 Axes>"
      ]
     },
     "metadata": {
      "needs_background": "light"
     },
     "output_type": "display_data"
    }
   ],
   "source": [
    "# showing scatter plot of Athletic Department Revenue to Coach Salary\n",
    "\n",
    "# cmap = plt.cm.get_cmap('jet')\n",
    "# for i, cluster in coaches_plus.groupby('cluster'):\n",
    "plt.scatter('Total Revenue', 'SchoolPay', c = \"blue\", data=coaches_plus)\n",
    "plt.xlabel('Total Revenue ($ in 100 millions)')\n",
    "plt.ylabel('Coach Salary ($ in millions)')\n",
    "plt.xticks([0, 50000000, 100000000, 150000000, 200000000, 250000000])\n",
    "plt.text(150000000, 1000000, 'Correlation = .855')\n",
    "plt.title('Athletic Department Revenue vs Coach Salary')\n",
    "# plt.legend(*scatter.legend_elements(), loc = \"lower right\", title = \"Conference\", fontsize = 'xx-small')\n",
    "# plt.legend(loc = \"lower right\", title = \"Conference\", fontsize = 'small')\n",
    "# plt.legend(conf_labels, [line.get_label() for line in conf_labels], loc = \"lower right\", title = \"Conference\", fontsize = 'small')\n",
    "plt.show()"
   ]
  },
  {
   "cell_type": "code",
   "execution_count": 223,
   "metadata": {},
   "outputs": [
    {
     "data": {
      "text/plain": [
       "0.8548335142604021"
      ]
     },
     "execution_count": 223,
     "metadata": {},
     "output_type": "execute_result"
    }
   ],
   "source": [
    "# calculating correlation between Athletic Department Revenue and Coach Salary\n",
    "\n",
    "tr_mat = np.corrcoef(coaches_plus['Total Revenue'], coaches_plus['SchoolPay'])\n",
    "tr_corr = tr_mat[0,1]\n",
    "tr_corr"
   ]
  },
  {
   "cell_type": "code",
   "execution_count": 320,
   "metadata": {},
   "outputs": [
    {
     "data": {
      "image/png": "[encoded data removed]",
      "text/plain": [
       "<Figure size 432x288 with 1 Axes>"
      ]
     },
     "metadata": {
      "needs_background": "light"
     },
     "output_type": "display_data"
    }
   ],
   "source": [
    "# scatter plot of Wins and Coach Salary\n",
    "\n",
    "plt.scatter('wins', 'SchoolPay', c = \"red\", data=coaches_plus)\n",
    "plt.xlabel('Wins')\n",
    "plt.ylabel('Coach Salary ($ in millions)')\n",
    "plt.text(1, 7000000, 'Correlation = .329')\n",
    "plt.title('Wins vs Coach Salary')\n",
    "plt.show()"
   ]
  },
  {
   "cell_type": "code",
   "execution_count": 225,
   "metadata": {},
   "outputs": [
    {
     "data": {
      "text/plain": [
       "0.3291059588641858"
      ]
     },
     "execution_count": 225,
     "metadata": {},
     "output_type": "execute_result"
    }
   ],
   "source": [
    "# correlation between Wins and Coach Salary\n",
    "\n",
    "win_mat = np.corrcoef(coaches_plus['wins'], coaches_plus['SchoolPay'])\n",
    "win_corr = win_mat[0,1]\n",
    "win_corr"
   ]
  },
  {
   "cell_type": "code",
   "execution_count": 321,
   "metadata": {},
   "outputs": [
    {
     "data": {
      "image/png": "[encoded data removed]",
      "text/plain": [
       "<Figure size 432x288 with 1 Axes>"
      ]
     },
     "metadata": {
      "needs_background": "light"
     },
     "output_type": "display_data"
    }
   ],
   "source": [
    "# scatter plot of SP+ rating and Coach Salary\n",
    "\n",
    "plt.scatter('sp_overall', 'SchoolPay', c = \"orange\", data=coaches_plus)\n",
    "plt.xlabel('SP+ Rating')\n",
    "plt.ylabel('Coach Salary ($ in millions)')\n",
    "plt.text(-30, 7000000, 'Correlation = .690')\n",
    "plt.title('SP+ Rating vs Coach Salary')\n",
    "plt.show()"
   ]
  },
  {
   "cell_type": "code",
   "execution_count": 227,
   "metadata": {},
   "outputs": [
    {
     "data": {
      "text/plain": [
       "0.690312423727778"
      ]
     },
     "execution_count": 227,
     "metadata": {},
     "output_type": "execute_result"
    }
   ],
   "source": [
    "# correlation between SP+ rating and Coach Salary\n",
    "\n",
    "sp_mat = np.corrcoef(coaches_plus['sp_overall'], coaches_plus['SchoolPay'])\n",
    "sp_corr = sp_mat[0,1]\n",
    "sp_corr"
   ]
  },
  {
   "cell_type": "code",
   "execution_count": 329,
   "metadata": {},
   "outputs": [
    {
     "data": {
      "image/png": "[encoded data removed]",
      "text/plain": [
       "<Figure size 432x288 with 1 Axes>"
      ]
     },
     "metadata": {
      "needs_background": "light"
     },
     "output_type": "display_data"
    }
   ],
   "source": [
    "# scatter plot of Stadium Capacity and Coach Salary\n",
    "\n",
    "plt.scatter('Capacity', 'SchoolPay', c = \"green\", data=coaches_plus)\n",
    "plt.xlabel('Stadium Capacity')\n",
    "plt.ylabel('Coach Salary ($ in millions)')\n",
    "plt.title('Stadium Capacity vs Coach Salary')\n",
    "plt.text(20000, 7000000, 'Correlation = .807')\n",
    "plt.show()"
   ]
  },
  {
   "cell_type": "code",
   "execution_count": 229,
   "metadata": {},
   "outputs": [
    {
     "data": {
      "text/plain": [
       "0.8065464892681028"
      ]
     },
     "execution_count": 229,
     "metadata": {},
     "output_type": "execute_result"
    }
   ],
   "source": [
    "# correlation between Stadium Capacity and Coach Salary\n",
    "\n",
    "cap_mat = np.corrcoef(coaches_plus['Capacity'], coaches_plus['SchoolPay'])\n",
    "cap_corr = cap_mat[0,1]\n",
    "cap_corr"
   ]
  },
  {
   "cell_type": "code",
   "execution_count": 324,
   "metadata": {},
   "outputs": [
    {
     "data": {
      "image/png": "[encoded data removed]",
      "text/plain": [
       "<Figure size 432x288 with 1 Axes>"
      ]
     },
     "metadata": {
      "needs_background": "light"
     },
     "output_type": "display_data"
    }
   ],
   "source": [
    "# scatter plot of Conference and Total Coach Pay\n",
    "\n",
    "plt.scatter('Conference', 'SchoolPay', c = \"purple\", data=coaches_plus)\n",
    "plt.xlabel('Conference')\n",
    "plt.ylabel('Coach Salary ($ in millions)')\n",
    "plt.title('Conference vs Coach Salary')\n",
    "plt.show()"
   ]
  },
  {
   "cell_type": "code",
   "execution_count": 328,
   "metadata": {},
   "outputs": [
    {
     "data": {
      "image/png": "[encoded data removed]",
      "text/plain": [
       "<Figure size 432x288 with 1 Axes>"
      ]
     },
     "metadata": {
      "needs_background": "light"
     },
     "output_type": "display_data"
    }
   ],
   "source": [
    "# scatter plot of GSR to Total Coach Pay\n",
    "\n",
    "plt.scatter('GSR', 'SchoolPay', c = 'black', data = coaches_plus)\n",
    "plt.xlabel('GSR')\n",
    "plt.ylabel('Coach Salary ($ in millions)')\n",
    "plt.title('Graduation Rate vs Coach Salary')\n",
    "plt.text(50, 5500000, 'Correlation = .120')\n",
    "plt.show()"
   ]
  },
  {
   "cell_type": "code",
   "execution_count": 232,
   "metadata": {},
   "outputs": [
    {
     "data": {
      "text/plain": [
       "0.12008411491634374"
      ]
     },
     "execution_count": 232,
     "metadata": {},
     "output_type": "execute_result"
    }
   ],
   "source": [
    "gsr_mat = np.corrcoef(coaches_plus['GSR'], coaches_plus['SchoolPay'])\n",
    "gsr_corr = gsr_mat[0,1]\n",
    "gsr_corr"
   ]
  },
  {
   "cell_type": "code",
   "execution_count": 35,
   "metadata": {},
   "outputs": [
    {
     "data": {
      "image/png": "[encoded data removed]",
      "text/plain": [
       "<Figure size 432x288 with 1 Axes>"
      ]
     },
     "metadata": {
      "needs_background": "light"
     },
     "output_type": "display_data"
    }
   ],
   "source": [
    "# scatter plot of Stadium Capacity and Coach Salary\n",
    "\n",
    "plt.scatter('Total Revenue', 'sp_overall', c = \"blue\", data=coaches_plus)\n",
    "plt.xlabel('Athletic Department Revenue (in $100 millions)')\n",
    "plt.ylabel('SP+')\n",
    "plt.title('Athletic Department Revenue to Final 2019 SP+ Rating')\n",
    "plt.text(223879781, 9, 'Texas',horizontalalignment='right')\n",
    "plt.text(143765903, 10.8, 'Tennessee')\n",
    "plt.text(136233460, 2.6, 'Nebraska')\n",
    "plt.text(212748002, 15, 'Texas A&M',horizontalalignment='right')\n",
    "plt.text(197820410, 20.7, 'Michigan')\n",
    "plt.text(210548239, 35.4, 'Ohio St')\n",
    "plt.text(50599483, 8.1, 'Boise St')\n",
    "plt.text(69121887, 19.1, 'UCF')\n",
    "plt.text(37996512, 11.3, 'App St')\n",
    "plt.text(137497788, -13.6, 'Arkansas')\n",
    "plt.text(121553307, -9.8, 'Kansas')\n",
    "plt.text(108796303, -6.3, 'Maryland')\n",
    "plt.text(150000000, -25, 'Correlation: .641')\n",
    "plt.show()"
   ]
  },
  {
   "cell_type": "code",
   "execution_count": 21,
   "metadata": {},
   "outputs": [
    {
     "data": {
      "text/plain": [
       "0.6414682086904554"
      ]
     },
     "execution_count": 21,
     "metadata": {},
     "output_type": "execute_result"
    }
   ],
   "source": [
    "rev_sp_mat = np.corrcoef(coaches_plus['Total Revenue'], coaches_plus['sp_overall'])\n",
    "rev_sp_corr = rev_sp_mat[0,1]\n",
    "rev_sp_corr"
   ]
  },
  {
   "cell_type": "code",
   "execution_count": 233,
   "metadata": {},
   "outputs": [
    {
     "name": "stdout",
     "output_type": "stream",
     "text": [
      "       School Conference        Coach  SchoolPay   TotalPay  Bonus  BonusPaid  \\\n",
      "102  Syracuse        ACC  Dino Babers  2401206.0  2401206.0    0.0        0.0   \n",
      "\n",
      "     AssistantPay  Buyout  Total Revenue  wins  losses  sp_overall  GSR   FGR  \\\n",
      "102           0.0     0.0     99800000.0     5       7        -3.0   85  70.0   \n",
      "\n",
      "     Capacity  \n",
      "102   49250.0  \n",
      "                    School Conference              Coach  SchoolPay  \\\n",
      "0                Air Force   Mt. West       Troy Calhoun   885000.0   \n",
      "1                    Akron        MAC       Terry Bowden   411000.0   \n",
      "2                  Alabama        SEC         Nick Saban  8307000.0   \n",
      "3    Alabama at Birmingham      C-USA         Bill Clark   900000.0   \n",
      "4        Appalachian State   Sun Belt  Scott Satterfield   712500.0   \n",
      "..                     ...        ...                ...        ...   \n",
      "124          West Virginia     Big 12     Dana Holgorsen  3605000.0   \n",
      "125       Western Kentucky      C-USA   Mike Sanford Jr.   800000.0   \n",
      "126       Western Michigan        MAC         Tim Lester   800000.0   \n",
      "127              Wisconsin    Big Ten        Paul Chryst  3750000.0   \n",
      "128                Wyoming   Mt. West         Craig Bohl  1412000.0   \n",
      "\n",
      "      TotalPay      Bonus  BonusPaid  AssistantPay      Buyout  Total Revenue  \\\n",
      "0     885000.0   247000.0        0.0           0.0         0.0     60009782.0   \n",
      "1     412500.0   225000.0    50000.0           0.0    688500.0     37194485.0   \n",
      "2    8307000.0  1100000.0   500000.0           0.0  33600000.0    164090889.0   \n",
      "3     900000.0   950000.0   165471.0           0.0   3847500.0     36494381.0   \n",
      "4     712500.0   295000.0   145000.0           0.0   2160417.0     37996512.0   \n",
      "..         ...        ...        ...           ...         ...            ...   \n",
      "124  3617500.0  1000000.0    90000.0           0.0   7150000.0    102680928.0   \n",
      "125   805850.0   400000.0        0.0           0.0   1200000.0     30770123.0   \n",
      "126   800000.0   346500.0    39250.0           0.0    800000.0     38492604.0   \n",
      "127  3750000.0        0.0   290000.0           0.0   6000000.0    157660107.0   \n",
      "128  1412000.0   450000.0   236000.0           0.0   8016667.0     47046852.0   \n",
      "\n",
      "     wins  losses  sp_overall  GSR   FGR  Capacity       AD_rev  \n",
      "0      11       2        12.1   77   0.0   52237.0   60009782.0  \n",
      "1       0      12       -29.8   72  61.0   30000.0   37194485.0  \n",
      "2      11       2        32.4   84  63.0  101821.0  164090889.0  \n",
      "3       9       5        -1.4   71  58.0   71594.0   36494381.0  \n",
      "4      12       1        11.3   71  67.0   24150.0   37996512.0  \n",
      "..    ...     ...         ...  ...   ...       ...          ...  \n",
      "124     5       7        -7.0   65  60.0   60000.0  102680928.0  \n",
      "125     9       4         1.7   74  55.0   22113.0   30770123.0  \n",
      "126     7       6        -4.9   75  54.0   30200.0   38492604.0  \n",
      "127    10       4        20.3   86  72.0   80321.0  157660107.0  \n",
      "128     8       5        -1.1   78  47.0   29181.0   47046852.0  \n",
      "\n",
      "[126 rows x 17 columns]\n"
     ]
    }
   ],
   "source": [
    "# Model development\n",
    "\n",
    "# removing Syracuse from testing and training datasets because we are predicting Syracuse salary\n",
    "\n",
    "cuse = coaches_plus[coaches_plus['School'] == 'Syracuse']\n",
    "print(cuse)\n",
    "\n",
    "no_dino = coaches_plus[coaches_plus['School'] != 'Syracuse']\n",
    "no_dino['AD_rev'] = no_dino['Total Revenue']\n",
    "print(no_dino)"
   ]
  },
  {
   "cell_type": "code",
   "execution_count": 235,
   "metadata": {},
   "outputs": [
    {
     "name": "stdout",
     "output_type": "stream",
     "text": [
      "                  School Conference              Coach  SchoolPay   TotalPay  \\\n",
      "1                  Akron        MAC       Terry Bowden   411000.0   412500.0   \n",
      "2                Alabama        SEC         Nick Saban  8307000.0  8307000.0   \n",
      "3  Alabama at Birmingham      C-USA         Bill Clark   900000.0   900000.0   \n",
      "4      Appalachian State   Sun Belt  Scott Satterfield   712500.0   712500.0   \n",
      "7               Arkansas        SEC        Chad Morris  3500000.0  3500000.0   \n",
      "\n",
      "       Bonus  BonusPaid  AssistantPay      Buyout  Total Revenue  wins  \\\n",
      "1   225000.0    50000.0           0.0    688500.0     37194485.0     0   \n",
      "2  1100000.0   500000.0           0.0  33600000.0    164090889.0    11   \n",
      "3   950000.0   165471.0           0.0   3847500.0     36494381.0     9   \n",
      "4   295000.0   145000.0           0.0   2160417.0     37996512.0    12   \n",
      "7  1000000.0        0.0           0.0  12500000.0    137497788.0     2   \n",
      "\n",
      "   losses  sp_overall  GSR   FGR  Capacity       AD_rev  runiform  \n",
      "1      12       -29.8   72  61.0   30000.0   37194485.0  0.622109  \n",
      "2       2        32.4   84  63.0  101821.0  164090889.0  0.437728  \n",
      "3       5        -1.4   71  58.0   71594.0   36494381.0  0.785359  \n",
      "4       1        11.3   71  67.0   24150.0   37996512.0  0.779976  \n",
      "7       8       -10.6   56  42.0   72000.0  137497788.0  0.801872  \n",
      "           School Conference          Coach  SchoolPay   TotalPay      Bonus  \\\n",
      "0       Air Force   Mt. West   Troy Calhoun   885000.0   885000.0   247000.0   \n",
      "5         Arizona     Pac-12   Kevin Sumlin  1600000.0  2000000.0  2025000.0   \n",
      "6   Arizona State     Pac-12   Herm Edwards  2000000.0  2000000.0  3010000.0   \n",
      "18     California     Pac-12  Justin Wilcox  1500000.0  1500000.0   900000.0   \n",
      "23        Clemson        ACC   Dabo Swinney  6205000.0  6543350.0  1125000.0   \n",
      "\n",
      "    BonusPaid  AssistantPay      Buyout  Total Revenue  wins  losses  \\\n",
      "0         0.0           0.0         0.0     60009782.0    11       2   \n",
      "5         0.0           0.0  10000000.0    105091389.0     4       8   \n",
      "6         0.0           0.0   8166667.0    121698840.0     8       5   \n",
      "18    75000.0           0.0   7208500.0     87500758.0     8       5   \n",
      "23   500000.0           0.0  35000000.0    133861515.0    14       1   \n",
      "\n",
      "    sp_overall  GSR   FGR  Capacity       AD_rev  runiform  \n",
      "0         12.1   77   0.0   52237.0   60009782.0  0.191519  \n",
      "5         -8.0   76  63.0   56037.0  105091389.0  0.272593  \n",
      "6          6.3   73  61.0   56232.0  121698840.0  0.276464  \n",
      "18        -2.6   64  52.0   62717.0   87500758.0  0.013768  \n",
      "23        28.1   87  70.0   81500.0  133861515.0  0.075381  \n"
     ]
    }
   ],
   "source": [
    "# creating train and test datasets\n",
    "\n",
    "np.random.seed(1234)\n",
    "\n",
    "no_dino['runiform'] = uniform.rvs(loc = 0, scale = 1, size = len(no_dino))\n",
    "coach_train = no_dino[no_dino['runiform'] >= .33]\n",
    "coach_test = no_dino[no_dino['runiform'] < .33 ]\n",
    "\n",
    "print(coach_train.head())\n",
    "print(coach_test.head())"
   ]
  },
  {
   "cell_type": "code",
   "execution_count": 236,
   "metadata": {},
   "outputs": [],
   "source": [
    "# creating model using variables with high correlation (>.5)\n",
    "\n",
    "# Revenue, SP+, Stadium\n",
    "\n",
    "coach_model = str('SchoolPay ~ AD_rev + sp_overall + Capacity')"
   ]
  },
  {
   "cell_type": "code",
   "execution_count": 237,
   "metadata": {},
   "outputs": [
    {
     "name": "stdout",
     "output_type": "stream",
     "text": [
      "                            OLS Regression Results                            \n",
      "==============================================================================\n",
      "Dep. Variable:              SchoolPay   R-squared:                       0.802\n",
      "Model:                            OLS   Adj. R-squared:                  0.795\n",
      "Method:                 Least Squares   F-statistic:                     116.3\n",
      "Date:                Thu, 28 Jan 2021   Prob (F-statistic):           3.59e-30\n",
      "Time:                        19:40:07   Log-Likelihood:                -1360.3\n",
      "No. Observations:                  90   AIC:                             2729.\n",
      "Df Residuals:                      86   BIC:                             2739.\n",
      "Df Model:                           3                                         \n",
      "Covariance Type:            nonrobust                                         \n",
      "==============================================================================\n",
      "                 coef    std err          t      P>|t|      [0.025      0.975]\n",
      "------------------------------------------------------------------------------\n",
      "Intercept  -1.077e+04   2.71e+05     -0.040      0.968    -5.5e+05    5.28e+05\n",
      "AD_rev         0.0215      0.004      5.652      0.000       0.014       0.029\n",
      "sp_overall  3.261e+04   8909.682      3.660      0.000    1.49e+04    5.03e+04\n",
      "Capacity      14.1596      7.586      1.867      0.065      -0.920      29.239\n",
      "==============================================================================\n",
      "Omnibus:                       16.083   Durbin-Watson:                   1.810\n",
      "Prob(Omnibus):                  0.000   Jarque-Bera (JB):               25.000\n",
      "Skew:                           0.751   Prob(JB):                     3.73e-06\n",
      "Kurtosis:                       5.100   Cond. No.                     2.68e+08\n",
      "==============================================================================\n",
      "\n",
      "Warnings:\n",
      "[1] Standard Errors assume that the covariance matrix of the errors is correctly specified.\n",
      "[2] The condition number is large, 2.68e+08. This might indicate that there are\n",
      "strong multicollinearity or other numerical problems.\n"
     ]
    }
   ],
   "source": [
    "# fit model to training set\n",
    "\n",
    "train_model_fit = smf.ols(coach_model, data = coach_train).fit()\n",
    "print(train_model_fit.summary())\n",
    "\n",
    "# training set predictions from model fit to training set\n",
    "coach_train['predict_salary'] = train_model_fit.fittedvalues\n",
    "\n",
    "# test set predictions from model fit to training set\n",
    "coach_test['predict_salary'] = train_model_fit.predict(coach_test)"
   ]
  },
  {
   "cell_type": "code",
   "execution_count": 239,
   "metadata": {},
   "outputs": [
    {
     "name": "stdout",
     "output_type": "stream",
     "text": [
      "                            OLS Regression Results                            \n",
      "==============================================================================\n",
      "Dep. Variable:              SchoolPay   R-squared:                       0.778\n",
      "Model:                            OLS   Adj. R-squared:                  0.772\n",
      "Method:                 Least Squares   F-statistic:                     142.2\n",
      "Date:                Thu, 28 Jan 2021   Prob (F-statistic):           1.19e-39\n",
      "Time:                        19:40:18   Log-Likelihood:                -1904.0\n",
      "No. Observations:                 126   AIC:                             3816.\n",
      "Df Residuals:                     122   BIC:                             3827.\n",
      "Df Model:                           3                                         \n",
      "Covariance Type:            nonrobust                                         \n",
      "==============================================================================\n",
      "                 coef    std err          t      P>|t|      [0.025      0.975]\n",
      "------------------------------------------------------------------------------\n",
      "Intercept  -1.445e+05   2.37e+05     -0.610      0.543   -6.14e+05    3.25e+05\n",
      "AD_rev         0.0205      0.003      6.224      0.000       0.014       0.027\n",
      "sp_overall  2.888e+04   7765.612      3.719      0.000    1.35e+04    4.43e+04\n",
      "Capacity      17.4412      6.747      2.585      0.011       4.084      30.798\n",
      "==============================================================================\n",
      "Omnibus:                       12.999   Durbin-Watson:                   2.025\n",
      "Prob(Omnibus):                  0.002   Jarque-Bera (JB):               18.452\n",
      "Skew:                           0.541   Prob(JB):                     9.84e-05\n",
      "Kurtosis:                       4.531   Cond. No.                     2.78e+08\n",
      "==============================================================================\n",
      "\n",
      "Warnings:\n",
      "[1] Standard Errors assume that the covariance matrix of the errors is correctly specified.\n",
      "[2] The condition number is large, 2.78e+08. This might indicate that there are\n",
      "strong multicollinearity or other numerical problems.\n"
     ]
    }
   ],
   "source": [
    "# model test results:\n",
    "\n",
    "# print('\\nProportion of Test Set Variance Accounted for: ',\\\n",
    " #   round(np.power(coach_test['SchoolPay'].corr(coach_test['predict_salary']),2),3))\n",
    "\n",
    "final_model_fit = smf.ols(coach_model, data = no_dino).fit()\n",
    "print(final_model_fit.summary())"
   ]
  },
  {
   "cell_type": "code",
   "execution_count": 336,
   "metadata": {},
   "outputs": [
    {
     "name": "stdout",
     "output_type": "stream",
     "text": [
      "       School Conference        Coach  SchoolPay   TotalPay  Bonus  BonusPaid  \\\n",
      "102  Syracuse        ACC  Dino Babers  2401206.0  2401206.0    0.0        0.0   \n",
      "\n",
      "     AssistantPay  Buyout  Total Revenue  wins  losses  sp_overall  GSR   FGR  \\\n",
      "102           0.0     0.0     99800000.0     5       7        -3.0   85  70.0   \n",
      "\n",
      "     Capacity  \n",
      "102   49250.0  \n"
     ]
    }
   ],
   "source": [
    "print(cuse)"
   ]
  },
  {
   "cell_type": "code",
   "execution_count": 205,
   "metadata": {},
   "outputs": [
    {
     "data": {
      "text/plain": [
       "2673739.1"
      ]
     },
     "execution_count": 205,
     "metadata": {},
     "output_type": "execute_result"
    }
   ],
   "source": [
    "# calculating Syracuse coach salary\n",
    "\n",
    "-1.445e+05 + (.0205*99800000) + (2.888e+04*-3) + (17.4412*49250)"
   ]
  },
  {
   "cell_type": "code",
   "execution_count": 332,
   "metadata": {},
   "outputs": [],
   "source": [
    "# creating model using variables with high correlation (>.5)\n",
    "\n",
    "# Revenue, SP+, Stadium, Conference\n",
    "\n",
    "conf_model = str('SchoolPay ~ Conference + AD_rev + sp_overall + Capacity')"
   ]
  },
  {
   "cell_type": "code",
   "execution_count": 333,
   "metadata": {},
   "outputs": [
    {
     "name": "stdout",
     "output_type": "stream",
     "text": [
      "                            OLS Regression Results                            \n",
      "==============================================================================\n",
      "Dep. Variable:              SchoolPay   R-squared:                       0.848\n",
      "Model:                            OLS   Adj. R-squared:                  0.822\n",
      "Method:                 Least Squares   F-statistic:                     32.59\n",
      "Date:                Thu, 28 Jan 2021   Prob (F-statistic):           9.18e-26\n",
      "Time:                        22:29:28   Log-Likelihood:                -1348.5\n",
      "No. Observations:                  90   AIC:                             2725.\n",
      "Df Residuals:                      76   BIC:                             2760.\n",
      "Df Model:                          13                                         \n",
      "Covariance Type:            nonrobust                                         \n",
      "==========================================================================================\n",
      "                             coef    std err          t      P>|t|      [0.025      0.975]\n",
      "------------------------------------------------------------------------------------------\n",
      "Intercept               2.517e+05   4.55e+05      0.553      0.582   -6.55e+05    1.16e+06\n",
      "Conference[T.ACC]       1.171e+06   4.75e+05      2.463      0.016    2.24e+05    2.12e+06\n",
      "Conference[T.Big 12]    1.594e+06    4.9e+05      3.252      0.002    6.18e+05    2.57e+06\n",
      "Conference[T.Big Ten]   1.562e+06   5.27e+05      2.966      0.004    5.13e+05    2.61e+06\n",
      "Conference[T.C-USA]     1.044e+05   4.51e+05      0.231      0.818   -7.95e+05       1e+06\n",
      "Conference[T.Ind.]      1.521e+05   5.65e+05      0.269      0.789   -9.74e+05    1.28e+06\n",
      "Conference[T.MAC]      -8.338e+04    4.7e+05     -0.177      0.860   -1.02e+06    8.52e+05\n",
      "Conference[T.Mt. West] -1.202e+05   4.52e+05     -0.266      0.791   -1.02e+06     7.8e+05\n",
      "Conference[T.Pac-12]    9.509e+05   4.82e+05      1.973      0.052   -9240.691    1.91e+06\n",
      "Conference[T.SEC]       1.514e+06   5.34e+05      2.834      0.006     4.5e+05    2.58e+06\n",
      "Conference[T.Sun Belt] -1.358e+05   4.63e+05     -0.293      0.770   -1.06e+06    7.87e+05\n",
      "AD_rev                     0.0113      0.004      2.547      0.013       0.002       0.020\n",
      "sp_overall              3.017e+04   8618.570      3.501      0.001     1.3e+04    4.73e+04\n",
      "Capacity                  12.3927      7.382      1.679      0.097      -2.309      27.095\n",
      "==============================================================================\n",
      "Omnibus:                        5.267   Durbin-Watson:                   1.623\n",
      "Prob(Omnibus):                  0.072   Jarque-Bera (JB):                7.421\n",
      "Skew:                           0.099   Prob(JB):                       0.0245\n",
      "Kurtosis:                       4.393   Cond. No.                     1.27e+09\n",
      "==============================================================================\n",
      "\n",
      "Warnings:\n",
      "[1] Standard Errors assume that the covariance matrix of the errors is correctly specified.\n",
      "[2] The condition number is large, 1.27e+09. This might indicate that there are\n",
      "strong multicollinearity or other numerical problems.\n"
     ]
    }
   ],
   "source": [
    "# fit model to training set\n",
    "\n",
    "train_model_fit = smf.ols(conf_model, data = coach_train).fit()\n",
    "print(train_model_fit.summary())\n",
    "\n",
    "# training set predictions from model fit to training set\n",
    "coach_train['predict_salary'] = train_model_fit.fittedvalues\n",
    "\n",
    "# test set predictions from model fit to training set\n",
    "coach_test['predict_salary'] = train_model_fit.predict(coach_test)"
   ]
  },
  {
   "cell_type": "code",
   "execution_count": 340,
   "metadata": {},
   "outputs": [
    {
     "data": {
      "text/plain": [
       "3070270.475"
      ]
     },
     "execution_count": 340,
     "metadata": {},
     "output_type": "execute_result"
    }
   ],
   "source": [
    "# calculating Syracuse salary for best model\n",
    "\n",
    "2.517e+05 + 1.171e+06 + (.0113*99800000) + (3.017e+04*-3) + (12.3927*49250)\n",
    "\n",
    "# 3,070,270.48"
   ]
  },
  {
   "cell_type": "code",
   "execution_count": 339,
   "metadata": {},
   "outputs": [
    {
     "data": {
      "text/plain": [
       "1899270.475"
      ]
     },
     "execution_count": 339,
     "metadata": {},
     "output_type": "execute_result"
    }
   ],
   "source": [
    "# calculating Syracuse salary in Big East or Big Ten\n",
    "\n",
    "# using AAC conference as stand in for Big East due to historial similarities\n",
    "\n",
    "# Big East (AAC)\n",
    "\n",
    "2.517e+05 + (.0113*99800000) + (3.017e+04*-3) + (12.3927*49250)\n",
    "\n",
    "# $1,899,270.48"
   ]
  },
  {
   "cell_type": "code",
   "execution_count": 338,
   "metadata": {},
   "outputs": [
    {
     "data": {
      "text/plain": [
       "3461270.475"
      ]
     },
     "execution_count": 338,
     "metadata": {},
     "output_type": "execute_result"
    }
   ],
   "source": [
    "# Big Ten\n",
    "\n",
    "2.517e+05 + 1.562e+06 + (.0113*99800000) + (3.017e+04*-3) + (12.3927*49250)\n",
    "\n",
    "# $3,461,270.48"
   ]
  },
  {
   "cell_type": "code",
   "execution_count": 334,
   "metadata": {},
   "outputs": [],
   "source": [
    "# creating model using variables with high correlation (>.5), dropping stadium size (high p value)\n",
    "\n",
    "# Revenue, SP+, Conference\n",
    "\n",
    "no_stad_model = str('SchoolPay ~ Conference + AD_rev + sp_overall')"
   ]
  },
  {
   "cell_type": "code",
   "execution_count": 335,
   "metadata": {},
   "outputs": [
    {
     "name": "stdout",
     "output_type": "stream",
     "text": [
      "                            OLS Regression Results                            \n",
      "==============================================================================\n",
      "Dep. Variable:              SchoolPay   R-squared:                       0.842\n",
      "Model:                            OLS   Adj. R-squared:                  0.818\n",
      "Method:                 Least Squares   F-statistic:                     34.26\n",
      "Date:                Thu, 28 Jan 2021   Prob (F-statistic):           5.88e-26\n",
      "Time:                        22:32:35   Log-Likelihood:                -1350.2\n",
      "No. Observations:                  90   AIC:                             2726.\n",
      "Df Residuals:                      77   BIC:                             2759.\n",
      "Df Model:                          12                                         \n",
      "Covariance Type:            nonrobust                                         \n",
      "==========================================================================================\n",
      "                             coef    std err          t      P>|t|      [0.025      0.975]\n",
      "------------------------------------------------------------------------------------------\n",
      "Intercept               5.804e+05   4.16e+05      1.395      0.167   -2.48e+05    1.41e+06\n",
      "Conference[T.ACC]       1.171e+06   4.81e+05      2.435      0.017    2.13e+05    2.13e+06\n",
      "Conference[T.Big 12]    1.569e+06   4.96e+05      3.165      0.002    5.82e+05    2.56e+06\n",
      "Conference[T.Big Ten]   1.556e+06   5.33e+05      2.921      0.005    4.96e+05    2.62e+06\n",
      "Conference[T.C-USA]     9.832e+04   4.57e+05      0.215      0.830   -8.11e+05    1.01e+06\n",
      "Conference[T.Ind.]      1.167e+05   5.72e+05      0.204      0.839   -1.02e+06    1.25e+06\n",
      "Conference[T.MAC]      -1.808e+05   4.72e+05     -0.383      0.703   -1.12e+06    7.59e+05\n",
      "Conference[T.Mt. West]  -1.18e+05   4.57e+05     -0.258      0.797   -1.03e+06    7.93e+05\n",
      "Conference[T.Pac-12]    9.298e+05   4.88e+05      1.907      0.060   -4.11e+04     1.9e+06\n",
      "Conference[T.SEC]       1.613e+06   5.37e+05      3.004      0.004    5.44e+05    2.68e+06\n",
      "Conference[T.Sun Belt] -2.332e+05   4.65e+05     -0.501      0.618   -1.16e+06    6.93e+05\n",
      "AD_rev                     0.0154      0.004      4.116      0.000       0.008       0.023\n",
      "sp_overall              3.268e+04   8587.155      3.806      0.000    1.56e+04    4.98e+04\n",
      "==============================================================================\n",
      "Omnibus:                        5.750   Durbin-Watson:                   1.560\n",
      "Prob(Omnibus):                  0.056   Jarque-Bera (JB):                8.192\n",
      "Skew:                           0.161   Prob(JB):                       0.0166\n",
      "Kurtosis:                       4.442   Cond. No.                     1.26e+09\n",
      "==============================================================================\n",
      "\n",
      "Warnings:\n",
      "[1] Standard Errors assume that the covariance matrix of the errors is correctly specified.\n",
      "[2] The condition number is large, 1.26e+09. This might indicate that there are\n",
      "strong multicollinearity or other numerical problems.\n"
     ]
    }
   ],
   "source": [
    "# fit model to training set\n",
    "\n",
    "train_model_fit = smf.ols(no_stad_model, data = coach_train).fit()\n",
    "print(train_model_fit.summary())\n",
    "\n",
    "# training set predictions from model fit to training set\n",
    "coach_train['predict_salary'] = train_model_fit.fittedvalues\n",
    "\n",
    "# test set predictions from model fit to training set\n",
    "coach_test['predict_salary'] = train_model_fit.predict(coach_test)"
   ]
  },
  {
   "cell_type": "code",
   "execution_count": null,
   "metadata": {},
   "outputs": [],
   "source": []
  }
 ],
 "metadata": {
  "kernelspec": {
   "display_name": "Python 3",
   "language": "python",
   "name": "python3"
  },
  "language_info": {
   "codemirror_mode": {
    "name": "ipython",
    "version": 3
   },
   "file_extension": ".py",
   "mimetype": "text/x-python",
   "name": "python",
   "nbconvert_exporter": "python",
   "pygments_lexer": "ipython3",
   "version": "3.8.3"
  }
 },
 "nbformat": 4,
 "nbformat_minor": 4
}
